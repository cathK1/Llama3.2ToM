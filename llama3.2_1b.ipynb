{
 "cells": [
  {
   "cell_type": "code",
   "execution_count": 1,
   "metadata": {},
   "outputs": [
    {
     "data": {
      "application/vnd.jupyter.widget-view+json": {
       "model_id": "7be6abc6dbee473e8f8df2658cada521",
       "version_major": 2,
       "version_minor": 0
      },
      "text/plain": [
       "VBox(children=(HTML(value='<center> <img\\nsrc=https://huggingface.co/front/assets/huggingface_logo-noborder.sv…"
      ]
     },
     "metadata": {},
     "output_type": "display_data"
    }
   ],
   "source": [
    "from huggingface_hub import notebook_login\n",
    "notebook_login()"
   ]
  },
  {
   "cell_type": "code",
   "execution_count": 2,
   "metadata": {},
   "outputs": [],
   "source": [
    "import json\n",
    "import torch\n",
    "from transformers import AutoModelForCausalLM, AutoTokenizer"
   ]
  },
  {
   "cell_type": "markdown",
   "metadata": {},
   "source": [
    "# Data Preprocessing"
   ]
  },
  {
   "cell_type": "code",
   "execution_count": 4,
   "metadata": {},
   "outputs": [],
   "source": [
    "import os"
   ]
  },
  {
   "cell_type": "code",
   "execution_count": 11,
   "metadata": {},
   "outputs": [],
   "source": [
    "files = os.listdir(\"./data\")\n",
    "json_files = [file for file in files if file.endswith(\".jsonl\")]\n",
    "\n",
    "for file in json_files:\n",
    "    task = file.split(\".\")[0]\n",
    "    with open(f\"data/{file}\", \"r\", encoding='utf-8') as f:\n",
    "        data = [json.loads(line) for line in f.readlines()]"
   ]
  },
  {
   "cell_type": "markdown",
   "metadata": {},
   "source": [
    "# Zero-shot llama3.2-1b"
   ]
  },
  {
   "cell_type": "code",
   "execution_count": 24,
   "metadata": {},
   "outputs": [],
   "source": [
    "model_id = \"meta-llama/Llama-3.2-1B\"\n",
    "model = AutoModelForCausalLM.from_pretrained(model_id)\n",
    "tokenizer = AutoTokenizer.from_pretrained(model_id)\n"
   ]
  },
  {
   "cell_type": "markdown",
   "metadata": {},
   "source": []
  },
  {
   "cell_type": "code",
   "execution_count": 31,
   "metadata": {},
   "outputs": [],
   "source": [
    "def question_from_row(row):\n",
    "    prompt = f\"\"\"\n",
    "    ### INSTRUCTION: ANSWER WITH A, B, C, OR D ONLY.\n",
    "    ### STORY: {row['STORY']}\n",
    "    ### QUESTION: {row['QUESTION']}\n",
    "    ### A. {row['OPTION-A']}\n",
    "    ### B. {row['OPTION-B']}\n",
    "    ### C. {row['OPTION-C']}\n",
    "    ### D. {row['OPTION-D']}\n",
    "    ### ANSWER:\"\"\"\n",
    "    return prompt"
   ]
  },
  {
   "cell_type": "code",
   "execution_count": 32,
   "metadata": {},
   "outputs": [
    {
     "name": "stdout",
     "output_type": "stream",
     "text": [
      "Prompt:\n",
      " \n",
      "    ### INSTRUCTION: ANSWER WITH A, B, C, OR D ONLY.\n",
      "    ### STORY: Almost every letter to Laura Company contains a check. Today, Laura receives 5 letters.  Laura tells you on the phone \"I look at 3 out of 5 letters. There are checks in 2 of the letters.\n",
      "    ### QUESTION: Before Laura calls you, how many of these 5 letters do you think contain checks?\n",
      "    ### A. Before the call, 0 letters contain checks.\n",
      "    ### B. Before the call, 1 letter contains a check.\n",
      "    ### C. Before the call, 2 letters contain checks.\n",
      "    ### D. Before the call, 4 letters contain checks.\n",
      "    ### ANSWER:\n",
      "Answer probs (all): tensor([0.0002, 0.0005, 0.0004, 0.0002])\n",
      "Predicted answer: B\n",
      "True answer: D\n"
     ]
    }
   ],
   "source": [
    "row = data[0]\n",
    "prompt = question_from_row(row)\n",
    "print(\"Prompt:\\n\", prompt)\n",
    "\n",
    "input_ids = tokenizer(prompt, return_tensors=\"pt\").input_ids\n",
    "\n",
    "with torch.no_grad():\n",
    "    final_logits = model(input_ids).logits[0,-1]\n",
    "answer_idxs = torch.tensor([tokenizer.encode(l)[-1] for l in 'ABCD'])\n",
    "answer_logits = final_logits[answer_idxs]\n",
    "answer_probs = final_logits.softmax(dim=0)[answer_idxs]\n",
    "\n",
    "print('Answer probs (all):', answer_probs)\n",
    "print('Predicted answer:', \"ABCD\"[answer_probs.argmax()])\n",
    "print('True answer:', row['答案\\nANSWER'])"
   ]
  }
 ],
 "metadata": {
  "kernelspec": {
   "display_name": "leace",
   "language": "python",
   "name": "python3"
  },
  "language_info": {
   "codemirror_mode": {
    "name": "ipython",
    "version": 3
   },
   "file_extension": ".py",
   "mimetype": "text/x-python",
   "name": "python",
   "nbconvert_exporter": "python",
   "pygments_lexer": "ipython3",
   "version": "3.12.2"
  }
 },
 "nbformat": 4,
 "nbformat_minor": 2
}
